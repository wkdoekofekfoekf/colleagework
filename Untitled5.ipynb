{
 "cells": [
  {
   "cell_type": "code",
   "execution_count": null,
   "id": "3b3b303f",
   "metadata": {},
   "outputs": [],
   "source": [
    "import cv2\n",
    "from matplotlib import pyplot as plt\n",
    "import numpy as np\n",
    "from PIL import Image##import 모듈\n",
    "\n",
    "\n",
    "img = cv2.imread('cubalto/ada.jpg', cv2.IMREAD_COLOR)   # 사진임포트\n",
    "img5 = cv2.imread('cubalto/nam.jpg')\n",
    "  # bgr rgb로변경\n",
    "bgr = img[:,:,0:3]   #넘파이로\n",
    "mask = cv2.inRange(bgr, (0,0,0),(10,10,10))   #검은배경 \n",
    "bgr_new = bgr.copy()\n",
    "bgr_new[mask==255] = (255,255,255)\n",
    "def pause():\n",
    "    # pause\n",
    "    keycode = cv2.waitKey(0)\n",
    "    # ESC key to close imshow\n",
    "    if keycode == 27:         \n",
    "        cv2.destroyAllWindows()\n",
    "img_bgr = bgr_new\n",
    "img_bitwise_not_bgr = cv2.bitwise_not(img_bgr)\n",
    "img_bitwise_not_bgr2gray = cv2.cvtColor(img_bitwise_not_bgr, cv2.COLOR_RGB2GRAY)   \n",
    "ret, img_binary = cv2.threshold(img_bitwise_not_bgr2gray, 150,255,cv2.THRESH_BINARY)\n",
    "contours, hierarchy = cv2.findContours(img_binary, cv2.RETR_EXTERNAL, cv2.CHAIN_APPROX_NONE)\n",
    "img_contour = cv2.drawContours(img_bgr, contours, -1, (255, 255, 255), 10)\n",
    "\n",
    "\n",
    " \n",
    "img_contour= cv2.cvtColor(img_contour, cv2.COLOR_RGB2RGBA)\n",
    "img5= cv2.cvtColor(img5, cv2.COLOR_RGB2RGBA)\n",
    "mask= cv2.cvtColor(mask, cv2.COLOR_RGB2RGBA)\n",
    "# Then assign the mask to the last channel of the image\n",
    "img_contour[:, :, 3] = 30\n",
    "\n",
    "\n",
    "\n",
    "\n",
    "cv2.imwrite('Image1.png',cv2.copyTo(img5,mask,img_contour))"
   ]
  },
  {
   "cell_type": "code",
   "execution_count": 10,
   "id": "8609cdf0",
   "metadata": {},
   "outputs": [
    {
     "data": {
      "text/plain": [
       "True"
      ]
     },
     "execution_count": 10,
     "metadata": {},
     "output_type": "execute_result"
    }
   ],
   "source": [
    "import cv2\n",
    "from matplotlib import pyplot as plt\n",
    "import numpy as np\n",
    "from PIL import Image##import 모듈\n",
    "\n",
    "img = cv2.imread('cubalto/ada.jpg', cv2.IMREAD_COLOR)   # 사진임포트\n",
    "img5 = cv2.imread('cubalto/nam.jpg')\n",
    "  # bgr rgb로변경\n",
    "bgr = img[:,:,0:3]   #넘파이로\n",
    "mask = cv2.inRange(bgr, (0,0,0),(10,10,10))   #검은배경 \n",
    "bgr_new = bgr.copy()\n",
    "bgr_new[mask==255] = (255,255,255)\n",
    "def pause():\n",
    "    # pause\n",
    "    keycode = cv2.waitKey(0)\n",
    "    # ESC key to close imshow\n",
    "    if keycode == 27:         \n",
    "        cv2.destroyAllWindows()\n",
    "img_bgr = bgr_new\n",
    "img_bitwise_not_bgr = cv2.bitwise_not(img_bgr)\n",
    "img_bitwise_not_bgr2gray = cv2.cvtColor(img_bitwise_not_bgr, cv2.COLOR_RGB2GRAY)   \n",
    "ret, img_binary = cv2.threshold(img_bitwise_not_bgr2gray, 150,255,cv2.THRESH_BINARY)\n",
    "contours, hierarchy = cv2.findContours(img_binary, cv2.RETR_EXTERNAL, cv2.CHAIN_APPROX_NONE)\n",
    "img_contour = cv2.drawContours(img_bgr, contours, -1, (255, 255, 255), 10)\n",
    "\n",
    "rgba = cv2.cvtColor(img, cv2.COLOR_RGB2RGBA)\n",
    "rgba[:, :, 3] = 80\n",
    "\n",
    "rgba1 = cv2.cvtColor(img5, cv2.COLOR_RGB2RGBA)\n",
    "# Then assign the mask to the last channel of the image\n",
    "rgba1[:, :, 3] = 90\n",
    "\n",
    "cv2.imwrite('img_bgr.jpg', img_contour)\n",
    "    \n"
   ]
  },
  {
   "cell_type": "code",
   "execution_count": null,
   "id": "d93d691a",
   "metadata": {},
   "outputs": [],
   "source": []
  }
 ],
 "metadata": {
  "kernelspec": {
   "display_name": "Environment (conda_tensorflow2.7_p38)",
   "language": "python",
   "name": "conda_tensorflow2.7_p38"
  },
  "language_info": {
   "codemirror_mode": {
    "name": "ipython",
    "version": 3
   },
   "file_extension": ".py",
   "mimetype": "text/x-python",
   "name": "python",
   "nbconvert_exporter": "python",
   "pygments_lexer": "ipython3",
   "version": "3.8.0"
  }
 },
 "nbformat": 4,
 "nbformat_minor": 5
}
