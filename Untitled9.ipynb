{
 "cells": [
  {
   "cell_type": "code",
   "execution_count": 1,
   "id": "04844fae",
   "metadata": {},
   "outputs": [],
   "source": [
    "import cv2\n",
    "import numpy as np\n",
    "import matplotlib.pyplot as plt"
   ]
  },
  {
   "cell_type": "code",
   "execution_count": 6,
   "id": "b3571b47",
   "metadata": {},
   "outputs": [],
   "source": [
    "def onChange(x):\n",
    "    return int(x)\n",
    "\n",
    "\n",
    "def findContours():\n",
    "    img = cv2.imread(\"C:/Users/kimyeongmin/Desktop/33/abc.jpg\")\n",
    "    img_gray = cv2.cvtColor(img, cv2.COLOR_BGR2GRAY)\n",
    "    res, thr = cv2.threshold(img_gray, 127,255, cv2.THRESH_BINARY_INV)\n",
    "    \n",
    "    cv2.namedWindow('contours')\n",
    "    cv2.createTrackbar('index', 'contours', 0, 16,onChange)\n",
    "    contours, hierarchy = cv2.findContours(thr, cv2.RETR_EXTERNAL, cv2.CHAIN_APPROX_SIMPLE)\n",
    "    while True:\n",
    "        img_copy = img.copy()\n",
    "        \n",
    "        index = cv2.getTrackbarPos('index', 'contours')\n",
    "        cnt = contours[index]\n",
    "        cv2.drawContours(img_copy, [cnt], 0, (255, 255,0), 2)\n",
    "        cv2.imshow('contours', img_copy)\n",
    "        \n",
    "        k = cv2.waitKey(0) & 0xFF\n",
    "        \n",
    "        \n",
    "        if k == 27:\n",
    "            break\n",
    "    cv2.destroyALLWindows()\n"
   ]
  },
  {
   "cell_type": "code",
   "execution_count": 9,
   "id": "ee14104f",
   "metadata": {},
   "outputs": [
    {
     "ename": "ValueError",
     "evalue": "not enough values to unpack (expected 3, got 2)",
     "output_type": "error",
     "traceback": [
      "\u001b[1;31m---------------------------------------------------------------------------\u001b[0m",
      "\u001b[1;31mValueError\u001b[0m                                Traceback (most recent call last)",
      "\u001b[1;32mC:\\Users\\KIMYEO~1\\AppData\\Local\\Temp/ipykernel_908/1343759627.py\u001b[0m in \u001b[0;36m<module>\u001b[1;34m\u001b[0m\n\u001b[0;32m     13\u001b[0m \u001b[1;33m\u001b[0m\u001b[0m\n\u001b[0;32m     14\u001b[0m \u001b[1;31m# 가장 바깥쪽 컨투어에 대해 모든 좌표 반환 ---③\u001b[0m\u001b[1;33m\u001b[0m\u001b[1;33m\u001b[0m\u001b[0m\n\u001b[1;32m---> 15\u001b[1;33m im2, contour, hierarchy = cv2.findContours(imthres, cv2.RETR_EXTERNAL, \\\n\u001b[0m\u001b[0;32m     16\u001b[0m                                                  cv2.CHAIN_APPROX_NONE)\n\u001b[0;32m     17\u001b[0m \u001b[1;31m# 가장 바깥쪽 컨투어에 대해 꼭지점 좌표만 반환 ---④\u001b[0m\u001b[1;33m\u001b[0m\u001b[1;33m\u001b[0m\u001b[0m\n",
      "\u001b[1;31mValueError\u001b[0m: not enough values to unpack (expected 3, got 2)"
     ]
    }
   ],
   "source": [
    "# 컨투어 찾기와 그리기 (cntr_find.py)\n",
    "\n",
    "import cv2\n",
    "import numpy as np\n",
    "\n",
    "img = cv2.imread('C:/Users/kimyeongmin/Desktop/33/abc.jpg')\n",
    "img2 = img.copy()\n",
    "\n",
    "# 그레이 스케일로 변환 ---①\n",
    "imgray = cv2.cvtColor(img, cv2.COLOR_BGR2GRAY)\n",
    "# 스레시홀드로 바이너리 이미지로 만들어서 검은배경에 흰색전경으로 반전 ---②\n",
    "ret, imthres = cv2.threshold(imgray, 127, 255, cv2.THRESH_BINARY_INV)\n",
    "\n",
    "# 가장 바깥쪽 컨투어에 대해 모든 좌표 반환 ---③\n",
    "im2, contour, hierarchy = cv2.findContours(imthres, cv2.RETR_EXTERNAL, \\\n",
    "                                                 cv2.CHAIN_APPROX_NONE)\n",
    "# 가장 바깥쪽 컨투어에 대해 꼭지점 좌표만 반환 ---④\n",
    "im2, contour2, hierarchy = cv2.findContours(imthres, cv2.RETR_EXTERNAL, \\\n",
    "                                                cv2.CHAIN_APPROX_SIMPLE)\n",
    "# 각각의 컨투의 갯수 출력 ---⑤\n",
    "print('도형의 갯수: %d(%d)'% (len(contour), len(contour2)))\n",
    "\n",
    "# 모든 좌표를 갖는 컨투어 그리기, 초록색  ---⑥\n",
    "cv2.drawContours(img, contour, -1, (0,255,0), 4)\n",
    "# 꼭지점 좌표만을 갖는 컨투어 그리기, 초록색  ---⑦\n",
    "cv2.drawContours(img2, contour2, -1, (0,255,0), 4)\n",
    "\n",
    "# 컨투어 모든 좌표를 작은 파랑색 점(원)으로 표시 ---⑧\n",
    "for i in contour:\n",
    "    for j in i:\n",
    "        cv2.circle(img, tuple(j[0]), 1, (255,0,0), -1) \n",
    "\n",
    "# 컨투어 꼭지점 좌표를 작은 파랑색 점(원)으로 표시 ---⑨\n",
    "for i in contour2:\n",
    "    for j in i:\n",
    "        cv2.circle(img2, tuple(j[0]), 1, (255,0,0), -1) \n",
    "\n",
    "# 결과 출력 ---⑩\n",
    "cv2.imshow('CHAIN_APPROX_NONE', img)\n",
    "cv2.imshow('CHAIN_APPROX_SIMPLE', img2)\n",
    "cv2.waitKey(0)\n",
    "cv2.destroyAllWindows()"
   ]
  },
  {
   "cell_type": "code",
   "execution_count": 13,
   "id": "a9bbcc25",
   "metadata": {},
   "outputs": [
    {
     "ename": "ValueError",
     "evalue": "not enough values to unpack (expected 3, got 2)",
     "output_type": "error",
     "traceback": [
      "\u001b[1;31m---------------------------------------------------------------------------\u001b[0m",
      "\u001b[1;31mValueError\u001b[0m                                Traceback (most recent call last)",
      "\u001b[1;32mC:\\Users\\KIMYEO~1\\AppData\\Local\\Temp/ipykernel_908/2832880535.py\u001b[0m in \u001b[0;36m<module>\u001b[1;34m\u001b[0m\n\u001b[0;32m     11\u001b[0m \u001b[1;33m\u001b[0m\u001b[0m\n\u001b[0;32m     12\u001b[0m \u001b[1;31m# 가장 바깥쪽 컨투어에 대해 모든 좌표 반환 ---③\u001b[0m\u001b[1;33m\u001b[0m\u001b[1;33m\u001b[0m\u001b[0m\n\u001b[1;32m---> 13\u001b[1;33m im2, contour, hierarchy = cv2.findContours(imthres, cv2.RETR_EXTERNAL, \\\n\u001b[0m\u001b[0;32m     14\u001b[0m                                                  cv2.CHAIN_APPROX_NONE)\n\u001b[0;32m     15\u001b[0m \u001b[1;31m# 가장 바깥쪽 컨투어에 대해 꼭지점 좌표만 반환 ---④\u001b[0m\u001b[1;33m\u001b[0m\u001b[1;33m\u001b[0m\u001b[0m\n",
      "\u001b[1;31mValueError\u001b[0m: not enough values to unpack (expected 3, got 2)"
     ]
    }
   ],
   "source": [
    "\n",
    "import cv2\n",
    "import numpy as np\n",
    "\n",
    "img = cv2.imread('output.png')\n",
    "img2 = img.copy()\n",
    "\n",
    "# 그레이 스케일로 변환 ---①\n",
    "imgray = cv2.cvtColor(img, cv2.COLOR_BGR2GRAY)\n",
    "# 스레시홀드로 바이너리 이미지로 만들어서 검은배경에 흰색전경으로 반전 ---②\n",
    "ret, imthres = cv2.threshold(imgray, 127, 255, cv2.THRESH_BINARY_INV)\n",
    "\n",
    "# 가장 바깥쪽 컨투어에 대해 모든 좌표 반환 ---③\n",
    "im2, contour, hierarchy = cv2.findContours(imthres, cv2.RETR_EXTERNAL, \\\n",
    "                                                 cv2.CHAIN_APPROX_NONE)\n",
    "# 가장 바깥쪽 컨투어에 대해 꼭지점 좌표만 반환 ---④\n",
    "im2, contour2, hierarchy = cv2.findContours(imthres, cv2.RETR_EXTERNAL, \\\n",
    "                                                cv2.CHAIN_APPROX_SIMPLE)\n",
    "# 각각의 컨투의 갯수 출력 ---⑤\n",
    "print('도형의 갯수: %d(%d)'% (len(contour), len(contour2)))\n",
    "\n",
    "# 모든 좌표를 갖는 컨투어 그리기, 초록색  ---⑥\n",
    "cv2.drawContours(img, contour, -1, (0,255,0), 4)\n",
    "# 꼭지점 좌표만을 갖는 컨투어 그리기, 초록색  ---⑦\n",
    "cv2.drawContours(img2, contour2, -1, (0,255,0), 4)\n",
    "\n",
    "# 컨투어 모든 좌표를 작은 파랑색 점(원)으로 표시 ---⑧\n",
    "for i in contour:\n",
    "    for j in i:\n",
    "        cv2.circle(img, tuple(j[0]), 1, (255,0,0), -1) \n",
    "\n",
    "# 컨투어 꼭지점 좌표를 작은 파랑색 점(원)으로 표시 ---⑨\n",
    "for i in contour2:\n",
    "    for j in i:\n",
    "        cv2.circle(img2, tuple(j[0]), 1, (255,0,0), -1) \n",
    "\n",
    "# 결과 출력 ---⑩\n",
    "cv2.imshow('CHAIN_APPROX_NONE', img)\n",
    "cv2.imshow('CHAIN_APPROX_SIMPLE', img2)\n",
    "cv2.waitKey(0)\n",
    "cv2.destroyAllWindows()"
   ]
  },
  {
   "cell_type": "code",
   "execution_count": 15,
   "id": "ed032618",
   "metadata": {},
   "outputs": [
    {
     "ename": "ValueError",
     "evalue": "not enough values to unpack (expected 3, got 2)",
     "output_type": "error",
     "traceback": [
      "\u001b[1;31m---------------------------------------------------------------------------\u001b[0m",
      "\u001b[1;31mValueError\u001b[0m                                Traceback (most recent call last)",
      "\u001b[1;32mC:\\Users\\KIMYEO~1\\AppData\\Local\\Temp/ipykernel_908/2907909311.py\u001b[0m in \u001b[0;36m<module>\u001b[1;34m\u001b[0m\n\u001b[0;32m     11\u001b[0m \u001b[1;33m\u001b[0m\u001b[0m\n\u001b[0;32m     12\u001b[0m \u001b[1;31m# 가장 바깥쪽 컨투어에 대해 모든 좌표 반환 ---③\u001b[0m\u001b[1;33m\u001b[0m\u001b[1;33m\u001b[0m\u001b[0m\n\u001b[1;32m---> 13\u001b[1;33m im2, contour, hierarchy = cv2.findContours(imthres, cv2.RETR_EXTERNAL, \\\n\u001b[0m\u001b[0;32m     14\u001b[0m                                                  cv2.CHAIN_APPROX_NONE)\n\u001b[0;32m     15\u001b[0m \u001b[1;31m# 가장 바깥쪽 컨투어에 대해 꼭지점 좌표만 반환 ---④\u001b[0m\u001b[1;33m\u001b[0m\u001b[1;33m\u001b[0m\u001b[0m\n",
      "\u001b[1;31mValueError\u001b[0m: not enough values to unpack (expected 3, got 2)"
     ]
    }
   ],
   "source": [
    "import cv2\n",
    "import numpy as np\n",
    "\n",
    "img = cv2.imread('output.png')\n",
    "img2 = img.copy()\n",
    "\n",
    "# 그레이 스케일로 변환 ---①\n",
    "imgray = cv2.cvtColor(img, cv2.COLOR_BGR2GRAY)\n",
    "# 스레시홀드로 바이너리 이미지로 만들어서 검은배경에 흰색전경으로 반전 ---②\n",
    "ret, imthres = cv2.threshold(imgray, 127, 255, cv2.THRESH_BINARY_INV)\n",
    "\n",
    "# 가장 바깥쪽 컨투어에 대해 모든 좌표 반환 ---③\n",
    "im2, contour, hierarchy = cv2.findContours(imthres, cv2.RETR_EXTERNAL, \\\n",
    "                                                 cv2.CHAIN_APPROX_NONE)\n",
    "# 가장 바깥쪽 컨투어에 대해 꼭지점 좌표만 반환 ---④\n",
    "im2, contour2, hierarchy = cv2.findContours(imthres, cv2.RETR_EXTERNAL, \\\n",
    "                                                cv2.CHAIN_APPROX_SIMPLE)\n",
    "# 각각의 컨투의 갯수 출력 ---⑤\n",
    "print('도형의 갯수: %d(%d)'% (len(contour), len(contour2)))\n",
    "\n",
    "# 모든 좌표를 갖는 컨투어 그리기, 초록색  ---⑥\n",
    "cv2.drawContours(img, contour, -1, (0,255,0), 4)\n",
    "# 꼭지점 좌표만을 갖는 컨투어 그리기, 초록색  ---⑦\n",
    "cv2.drawContours(img2, contour2, -1, (0,255,0), 4)\n",
    "\n",
    "# 컨투어 모든 좌표를 작은 파랑색 점(원)으로 표시 ---⑧\n",
    "for i in contour:\n",
    "    for j in i:\n",
    "        cv2.circle(img, tuple(j[0]), 1, (255,0,0), -1) \n",
    "\n",
    "# 컨투어 꼭지점 좌표를 작은 파랑색 점(원)으로 표시 ---⑨\n",
    "for i in contour2:\n",
    "    for j in i:\n",
    "        cv2.circle(img2, tuple(j[0]), 1, (255,0,0), -1) \n",
    "\n",
    "# 결과 출력 ---⑩\n",
    "cv2.imshow('ORIGIN', imgray)\n",
    "cv2.imshow('CHAIN_APPROX_NONE', img)\n",
    "cv2.imshow('CHAIN_APPROX_SIMPLE', img2)\n",
    "cv2.waitKey(0)\n",
    "cv2.destroyAllWindows()"
   ]
  },
  {
   "cell_type": "code",
   "execution_count": 33,
   "id": "d2cc2e94",
   "metadata": {},
   "outputs": [
    {
     "name": "stdout",
     "output_type": "stream",
     "text": [
      "도형의 갯수: 1(1)\n"
     ]
    }
   ],
   "source": [
    "import cv2\n",
    "import numpy as np\n",
    "\n",
    "img = cv2.imread('output.png')\n",
    "img2 = img.copy()\n",
    "\n",
    "# 그레이 스케일로 변환 ---①\n",
    "imgray = cv2.cvtColor(img, cv2.COLOR_BGR2GRAY)\n",
    "# 스레시홀드로 바이너리 이미지로 만들어서 검은배경에 흰색전경으로 반전 ---②\n",
    "ret, imthres = cv2.threshold(imgray, 127, 255, cv2.THRESH_BINARY_INV)\n",
    "\n",
    "# 가장 바깥쪽 컨투어에 대해 모든 좌표 반환 ---③\n",
    "contour, hierarchy = cv2.findContours(imthres, cv2.RETR_EXTERNAL, \\\n",
    "                                                 cv2.CHAIN_APPROX_NONE)\n",
    "# 가장 바깥쪽 컨투어에 대해 꼭지점 좌표만 반환 ---④\n",
    "contour2, hierarchy = cv2.findContours(imthres, cv2.RETR_EXTERNAL, \\\n",
    "                                                cv2.CHAIN_APPROX_SIMPLE)\n",
    "# 각각의 컨투의 갯수 출력 ---⑤\n",
    "print('도형의 갯수: %d(%d)'% (len(contour), len(contour2)))\n",
    "\n",
    "# 모든 좌표를 갖는 컨투어 그리기, 초록색  ---⑥\n",
    "cv2.drawContours(img, contour, -1, (0,255,0), 4)\n",
    "# 꼭지점 좌표만을 갖는 컨투어 그리기, 초록색  ---⑦\n",
    "cv2.drawContours(img2, contour2, -1, (0,255,0), 4)\n",
    "\n",
    "# 컨투어 모든 좌표를 작은 파랑색 점(원)으로 표시 ---⑧\n",
    "for i in contour:\n",
    "    for j in i:\n",
    "        cv2.circle(img, tuple(j[0]), 1, (255,0,0), -1) \n",
    "\n",
    "# 컨투어 꼭지점 좌표를 작은 파랑색 점(원)으로 표시 ---⑨\n",
    "for i in contour2:\n",
    "    for j in i:\n",
    "        cv2.circle(img2, tuple(j[0]), 1, (255,0,0), -1) \n",
    "\n",
    "# 결과 출력 ---⑩\n",
    "cv2.imshow('ORIGIN', imgray)\n",
    "cv2.imshow('CHAIN_APPROX_NONE', img)\n",
    "cv2.imshow('CHAIN_APPROX_SIMPLE', img2)\n",
    "cv2.waitKey(0)\n",
    "cv2.destroyAllWindows()"
   ]
  },
  {
   "cell_type": "code",
   "execution_count": 75,
   "id": "901d7e3a",
   "metadata": {},
   "outputs": [],
   "source": [
    "import numpy as np, cv2\n",
    "\n",
    "#--① 연산에 필요한 영상을 읽고 그레이스케일로 변환\n",
    "img2 = cv2.imread('1111.PNG')\n",
    "img1 = cv2.imread('output.png')\n",
    "\n",
    "img1_gray = cv2.cvtColor(img1, cv2.COLOR_BGR2GRAY)\n",
    "img2_gray = cv2.cvtColor(img2, cv2.COLOR_BGR2GRAY)\n",
    "\n",
    "#--② 두 영상의 절대값 차 연산\n",
    "diff = cv2.absdiff(img1_gray, img2_gray)\n",
    "\n",
    "#--③ 차 영상을 극대화 하기 위해 쓰레시홀드 처리 및 컬러로 변환\n",
    "_, diff = cv2.threshold(diff, 1, 255, cv2.THRESH_BINARY)\n",
    "diff_red = cv2.cvtColor(diff, cv2.COLOR_GRAY2BGR)\n",
    "diff_red[:,:,2] = 0\n",
    "\n",
    "#--④ 두 번째 이미지에 변화 부분 표시\n",
    "spot = cv2.bitwise_xor(img2, diff_red)\n",
    "\n",
    "#--⑤ 결과 영상 출력\n",
    "cv2.imshow('img1', img1)\n",
    "cv2.imshow('img2', img2)\n",
    "cv2.imshow('diff', diff)\n",
    "cv2.imshow('spot', spot)\n",
    "cv2.waitKey()\n",
    "cv2.destroyAllWindows()"
   ]
  },
  {
   "cell_type": "code",
   "execution_count": null,
   "id": "fa7956e1",
   "metadata": {},
   "outputs": [],
   "source": [
    "import cv2\n",
    "from matplotlib import pyplot as plt         ##import 모듈\n",
    "\n",
    "\n",
    "img = cv2.imread('output.png', cv2.IMREAD_COLOR)   # 사진임포트\n",
    "img5 = cv2.imread('1111.PNG')\n",
    "img = cv2.cvtColor(img, cv2.COLOR_BGR2RGB)    # bgr rgb로변경\n",
    "bgr = img[:,:,0:3]   #넘파이로\n",
    "mask = cv2.inRange(bgr, (0,0,0),(10,10,10))   #검은배경 \n",
    "bgr_new = bgr.copy()\n",
    "bgr_new[mask==255] = (255,255,255)\n",
    "def pause():\n",
    "    # pause\n",
    "    keycode = cv2.waitKey(0)\n",
    "    # ESC key to close imshow\n",
    "    if keycode == 27:         \n",
    "        cv2.destroyAllWindows()\n",
    "img_bgr = bgr_new\n",
    "img_bitwise_not_bgr = cv2.bitwise_not(img_bgr)\n",
    "img_bitwise_not_bgr2gray = cv2.cvtColor(img_bitwise_not_bgr, cv2.COLOR_RGB2GRAY)   \n",
    "ret, img_binary = cv2.threshold(img_bitwise_not_bgr2gray, 150,255,cv2.THRESH_BINARY)\n",
    "contours, hierarchy = cv2.findContours(img_binary, cv2.RETR_EXTERNAL, cv2.CHAIN_APPROX_NONE)\n",
    "img_contour = cv2.drawContours(img_bgr, contours, -1, (255, 255, 255), 10)\n",
    "cv2.imshow('a',cv2.copyTo(img5,mask,img_contour))\n",
    "cv2.waitKey(0)\n",
    "cv2.destroyAllWindows()\n",
    "           \n",
    "           "
   ]
  },
  {
   "cell_type": "code",
   "execution_count": 10,
   "id": "e40049d4",
   "metadata": {},
   "outputs": [
    {
     "name": "stderr",
     "output_type": "stream",
     "text": [
      "C:\\Users\\KIMYEO~1\\AppData\\Local\\Temp/ipykernel_12848/3234613582.py:5: DeprecationWarning: `np.float` is a deprecated alias for the builtin `float`. To silence this warning, use `float` by itself. Doing this will not modify any behavior and is safe. If you specifically wanted the numpy scalar type, use `np.float64` here.\n",
      "Deprecated in NumPy 1.20; for more details and guidance: https://numpy.org/devdocs/release/1.20.0-notes.html#deprecations\n",
      "  img = np.array(i, dtype=np.float)\n",
      "C:\\Users\\KIMYEO~1\\AppData\\Local\\Temp/ipykernel_12848/3234613582.py:11: DeprecationWarning: `np.float` is a deprecated alias for the builtin `float`. To silence this warning, use `float` by itself. Doing this will not modify any behavior and is safe. If you specifically wanted the numpy scalar type, use `np.float64` here.\n",
      "Deprecated in NumPy 1.20; for more details and guidance: https://numpy.org/devdocs/release/1.20.0-notes.html#deprecations\n",
      "  a_channel = np.ones(img.shape, dtype=np.float)/2.0\n"
     ]
    }
   ],
   "source": [
    "import numpy as np\n",
    "import cv2\n",
    "\n",
    "i = img_contour\n",
    "img = np.array(i, dtype=np.float)\n",
    "img /= 255.0\n",
    "cv2.imshow('img',img)\n",
    "cv2.waitKey(0)\n",
    "\n",
    "#pre-multiplication\n",
    "a_channel = np.ones(img.shape, dtype=np.float)/2.0\n",
    "image = img*a_channel\n",
    "\n",
    "cv2.imshow('img',image)\n",
    "cv2.waitKey(0)\n",
    "cv2.destroyAllWindows()"
   ]
  },
  {
   "cell_type": "code",
   "execution_count": 8,
   "id": "febf0253",
   "metadata": {},
   "outputs": [
    {
     "name": "stderr",
     "output_type": "stream",
     "text": [
      "C:\\Users\\KIMYEO~1\\AppData\\Local\\Temp/ipykernel_12848/2795719515.py:5: DeprecationWarning: `np.float` is a deprecated alias for the builtin `float`. To silence this warning, use `float` by itself. Doing this will not modify any behavior and is safe. If you specifically wanted the numpy scalar type, use `np.float64` here.\n",
      "Deprecated in NumPy 1.20; for more details and guidance: https://numpy.org/devdocs/release/1.20.0-notes.html#deprecations\n",
      "  img = np.array(i, dtype=np.float)\n",
      "C:\\Users\\KIMYEO~1\\AppData\\Local\\Temp/ipykernel_12848/2795719515.py:11: DeprecationWarning: `np.float` is a deprecated alias for the builtin `float`. To silence this warning, use `float` by itself. Doing this will not modify any behavior and is safe. If you specifically wanted the numpy scalar type, use `np.float64` here.\n",
      "Deprecated in NumPy 1.20; for more details and guidance: https://numpy.org/devdocs/release/1.20.0-notes.html#deprecations\n",
      "  a_channel = np.ones(img.shape, dtype=np.float)/2.0\n"
     ]
    }
   ],
   "source": []
  },
  {
   "cell_type": "code",
   "execution_count": 32,
   "id": "0a3de176",
   "metadata": {},
   "outputs": [],
   "source": [
    "cv2.waitKey(0)\n",
    "cv2.destroyAllWindows()"
   ]
  },
  {
   "cell_type": "code",
   "execution_count": 52,
   "id": "2ea4da51",
   "metadata": {},
   "outputs": [],
   "source": [
    "cv2.imshow('a',img)\n",
    "cv2.waitKey(0)\n",
    "cv2.destroyAllWindows()"
   ]
  },
  {
   "cell_type": "code",
   "execution_count": 6,
   "id": "29b38dd4",
   "metadata": {},
   "outputs": [],
   "source": [
    "cv2.imshow('mask',mask)\n",
    "cv2.waitKey(0)\n",
    "cv2.destroyAllWindows()"
   ]
  },
  {
   "cell_type": "code",
   "execution_count": 21,
   "id": "410e0942",
   "metadata": {},
   "outputs": [],
   "source": [
    "cv2.imshow('a',img6)\n",
    "cv2.waitKey(0)\n",
    "cv2.destroyAllWindows()"
   ]
  },
  {
   "cell_type": "code",
   "execution_count": 22,
   "id": "3d7442cb",
   "metadata": {},
   "outputs": [
    {
     "data": {
      "text/plain": [
       "array([[255, 255, 255, ..., 255, 255, 255],\n",
       "       [255, 255, 255, ..., 255, 255, 255],\n",
       "       [255, 255, 255, ..., 255, 255, 255],\n",
       "       ...,\n",
       "       [255, 255, 255, ..., 255, 255, 255],\n",
       "       [255, 255, 255, ..., 255, 255, 255],\n",
       "       [255, 255, 255, ..., 255, 255, 255]], dtype=uint8)"
      ]
     },
     "execution_count": 22,
     "metadata": {},
     "output_type": "execute_result"
    }
   ],
   "source": []
  },
  {
   "cell_type": "code",
   "execution_count": 5,
   "id": "3ac7df84",
   "metadata": {},
   "outputs": [
    {
     "name": "stdout",
     "output_type": "stream",
     "text": [
      "도형의 갯수: 2(2)\n"
     ]
    }
   ],
   "source": [
    "import cv2\n",
    "import numpy as np\n",
    "\n",
    "img = diff\n",
    "img2 = img.copy()\n",
    "\n",
    "\n",
    "# 그레이 스케일로 변환 ---①\n",
    "# 스레시홀드로 바이너리 이미지로 만들어서 검은배경에 흰색전경으로 반전 ---②\n",
    "ret, imthres = cv2.threshold(diff, 127, 255, cv2.THRESH_BINARY_INV)\n",
    "\n",
    "# 가장 바깥쪽 컨투어에 대해 모든 좌표 반환 ---③\n",
    "contour, hierarchy = cv2.findContours(imthres, cv2.RETR_EXTERNAL, \\\n",
    "                                                 cv2.CHAIN_APPROX_NONE)\n",
    "# 가장 바깥쪽 컨투어에 대해 꼭지점 좌표만 반환 ---④\n",
    "contour2, hierarchy = cv2.findContours(imthres, cv2.RETR_EXTERNAL, \\\n",
    "                                                cv2.CHAIN_APPROX_SIMPLE)\n",
    "# 각각의 컨투의 갯수 출력 ---⑤\n",
    "print('도형의 갯수: %d(%d)'% (len(contour), len(contour2)))\n",
    "\n",
    "# 모든 좌표를 갖는 컨투어 그리기, 초록색  ---⑥\n",
    "cv2.drawContours(img, contour, -1, (0,255,0), 4)\n",
    "# 꼭지점 좌표만을 갖는 컨투어 그리기, 초록색  ---⑦\n",
    "cv2.drawContours(img2, contour2, -1, (0,255,0), 4)\n",
    "\n",
    "# 컨투어 모든 좌표를 작은 파랑색 점(원)으로 표시 ---⑧\n",
    "for i in contour:\n",
    "    for j in i:\n",
    "        cv2.circle(img, tuple(j[0]), 1, (255,0,0), -1) \n",
    "\n",
    "# 컨투어 꼭지점 좌표를 작은 파랑색 점(원)으로 표시 ---⑨\n",
    "for i in contour2:\n",
    "    for j in i:\n",
    "        cv2.circle(img2, tuple(j[0]), 1, (255,0,0), -1) \n",
    "\n",
    "# 결과 출력 ---⑩\n",
    "cv2.imshow('ORIGIN', img2_gray)\n",
    "cv2.imshow('CHAIN_APPROX_NONE', img)\n",
    "cv2.imshow('CHAIN_APPROX_SIMPLE', img2)\n",
    "cv2.waitKey(0)\n",
    "cv2.destroyAllWindows()"
   ]
  },
  {
   "cell_type": "code",
   "execution_count": 30,
   "id": "9dd0c2b2",
   "metadata": {},
   "outputs": [],
   "source": [
    "cv2.imshow('diff', diff)"
   ]
  },
  {
   "cell_type": "code",
   "execution_count": null,
   "id": "da2f6629",
   "metadata": {},
   "outputs": [],
   "source": []
  }
 ],
 "metadata": {
  "kernelspec": {
   "display_name": "Python 3 (ipykernel)",
   "language": "python",
   "name": "python3"
  },
  "language_info": {
   "codemirror_mode": {
    "name": "ipython",
    "version": 3
   },
   "file_extension": ".py",
   "mimetype": "text/x-python",
   "name": "python",
   "nbconvert_exporter": "python",
   "pygments_lexer": "ipython3",
   "version": "3.9.7"
  }
 },
 "nbformat": 4,
 "nbformat_minor": 5
}
