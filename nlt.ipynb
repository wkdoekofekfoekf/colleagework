{
 "cells": [
  {
   "cell_type": "code",
   "execution_count": 3,
   "id": "8801ed5b",
   "metadata": {},
   "outputs": [],
   "source": [
    "#import\n",
    "import pandas as pd\n",
    "import numpy as np\n",
    "from sklearn.model_selection import train_test_split\n",
    "from sklearn.feature_extraction.text import TfidfVectorizer\n",
    "from scipy.sparse import hstack, csr_matrix\n",
    "import random\n",
    "import sys\n",
    "import cv2\n",
    "\n",
    "#데이터 받아오는 경로와 데이터셋 컬럼지정\n",
    "\n",
    "train_data = pd.read_csv('fififinal.csv')     \n",
    "\n",
    "\n",
    "train_data = train_data.rename(columns={'class' : 'Class'})\n"
   ]
  },
  {
   "cell_type": "code",
   "execution_count": 5,
   "id": "01910f07",
   "metadata": {},
   "outputs": [],
   "source": [
    "#사용자가 선택한 옷의 info (예를 든 것)\n",
    "Ex = pd.DataFrame({'성별':[1],\n",
    "                   '컬러':[7],\n",
    "                   '톤':[4],\n",
    "                   '패턴':[10],\n",
    "                   '상하의':[4],\n",
    "                   '계절' :[3],\n",
    "                   'TPO,스타일,무드':['일상,학교,미팅,데이트,파티,남자미니멀,시크'] })\n",
    "Exx = list(Ex['TPO,스타일,무드'])\n",
    "Ea = Ex[['성별','계절','상하의']]\n",
    "train_data = train_data[(train_data['성별'] == int(Ea['성별'])) | (train_data['성별'] == 3) & (train_data['계절'] == int(Ea['계절'])) & (train_data['상하의'] != int(Ea['상하의']))]\n",
    "TPO = list(train_data['TPO,스타일,무드'])\n",
    "\n",
    "\n"
   ]
  },
  {
   "cell_type": "code",
   "execution_count": 6,
   "id": "7c8c5b17",
   "metadata": {},
   "outputs": [],
   "source": [
    "#tfidf 문서유사도를 이용해 수치화 한 뒤 컬러,톤,패턴 속성과 결합\n",
    "\n",
    "tfidf_vec = TfidfVectorizer()\n",
    "X_train_tfidf = tfidf_vec.fit_transform(TPO)\n",
    "X_test_tfidf = tfidf_vec.transform(Exx)\n",
    "X_train_tfidf1 = hstack([X_train_tfidf, csr_matrix(train_data[['컬러','톤','패턴']])])\n",
    "X_test_tfidf1 = hstack([X_test_tfidf, csr_matrix(Ex[['컬러','톤','패턴']])])\n"
   ]
  },
  {
   "cell_type": "code",
   "execution_count": 7,
   "id": "3161d7e2",
   "metadata": {},
   "outputs": [
    {
     "name": "stdout",
     "output_type": "stream",
     "text": [
      "[3]\n"
     ]
    }
   ],
   "source": [
    "#변수 지정\n",
    "X = X_train_tfidf1\n",
    "y = np.array(train_data['Class'])\n",
    "# 학습용, 테스트용 데이터 분할\n",
    "X_train, X_test, y_train, y_test = train_test_split(X, y, test_size=0.3)\n",
    "#Random Forest Classifier\n",
    "from sklearn.ensemble import RandomForestClassifier\n",
    "clf = RandomForestClassifier(n_estimators=100)\n",
    "#훈련\n",
    "clf.fit(X_train,y_train)\n",
    "y_pred = clf.predict(X_test)\n",
    "# 클래스 분류값\n",
    "prediction = clf.predict(X_test_tfidf1)\n",
    "print(prediction)\n",
    "\n",
    "\n"
   ]
  },
  {
   "cell_type": "code",
   "execution_count": 8,
   "id": "f419612e",
   "metadata": {},
   "outputs": [
    {
     "name": "stdout",
     "output_type": "stream",
     "text": [
      "상하의 코드 : [1],파일명 : 2554\n",
      "상하의 코드 : [4],파일명 : 50\n",
      "상하의 코드 : [2],파일명 : 6485\n",
      "상하의 코드 : [5],파일명 : 23740\n"
     ]
    },
    {
     "ename": "SystemExit",
     "evalue": "",
     "output_type": "error",
     "traceback": [
      "An exception has occurred, use %tb to see the full traceback.\n",
      "\u001b[1;31mSystemExit\u001b[0m\n"
     ]
    },
    {
     "name": "stderr",
     "output_type": "stream",
     "text": [
      "C:\\anaconda3\\lib\\site-packages\\IPython\\core\\interactiveshell.py:3452: UserWarning: To exit: use 'exit', 'quit', or Ctrl-D.\n",
      "  warn(\"To exit: use 'exit', 'quit', or Ctrl-D.\", stacklevel=1)\n"
     ]
    }
   ],
   "source": [
    "while len(train_data == 0):\n",
    "    is_venezuela = train_data['Class'] == int(prediction)\n",
    "    venezuela = train_data[is_venezuela]\n",
    "    ab = venezuela[['파일명','성별','계절','상하의']]\n",
    "  \n",
    "    ac = list(venezuela['파일명'])\n",
    "    ac = random.choice(ac) \n",
    "    updown_name = train_data['파일명'] == ac\n",
    "    Class_name = train_data['파일명'] == ac\n",
    "    updown_name = train_data[updown_name]\n",
    "    Class_name = train_data[Class_name]\n",
    "    updown_name = updown_name['상하의']\n",
    "    Class_name = Class_name['Class']\n",
    "    updown_name = updown_name.values\n",
    "    Class_name = Class_name.values\n",
    "    print(\"상하의 코드 : \"+str(updown_name)+\",파일명 : \"+str(ac))\n",
    "    image = cv2.imread(str(Class_name[0])+'\\\\'+str(ac).zfill(6)+'.png')\n",
    "    im = cv2.cvtColor(image, cv2.COLOR_RGB2GRAY)\n",
    "    resize_img = cv2.resize(im, (300, 300))\n",
    "    cv2.imshow('recommend', resize_img)\n",
    "    cv2.waitKey(0) \n",
    "       \n",
    "    if len(train_data) != 0:\n",
    "        train_data = train_data[(train_data['상하의'] != int(updown_name))]\n",
    "    else: \n",
    "        sys.exit()\n",
    "\n",
    "    TPO = list(train_data['TPO,스타일,무드'])\n",
    "    tfidf_vec = TfidfVectorizer()\n",
    "    if len(train_data) == 0:\n",
    "        sys.exit()\n",
    "    X_train_tfidf = tfidf_vec.fit_transform(TPO)\n",
    "    X_test_tfidf = tfidf_vec.transform(Exx)\n",
    "    X_train_tfidf1 = hstack([X_train_tfidf, csr_matrix(train_data[['컬러','톤','패턴']])])\n",
    "    X_test_tfidf1 = hstack([X_test_tfidf, csr_matrix(Ex[['컬러','톤','패턴']])])\n",
    "    X = X_train_tfidf1\n",
    "    y = np.array(train_data['Class'])\n",
    "            # 학습용, 테스트용 데이터 분할\n",
    "    X_train, X_test, y_train, y_test = train_test_split(X, y, test_size=0.3)\n",
    "    clf.fit(X_train,y_train)\n",
    "    y_pred = clf.predict(X_test)\n",
    "    prediction = clf.predict(X_test_tfidf1)\n",
    "\n",
    "\n",
    "\n",
    "\n",
    "\n",
    "\n",
    "\n",
    "\n",
    "\n",
    "\n",
    "\n",
    "\n",
    "\n",
    "\n",
    "\n",
    "\n"
   ]
  },
  {
   "cell_type": "code",
   "execution_count": null,
   "id": "1d13496e",
   "metadata": {},
   "outputs": [],
   "source": []
  },
  {
   "cell_type": "code",
   "execution_count": null,
   "id": "3acc56f6",
   "metadata": {},
   "outputs": [],
   "source": []
  }
 ],
 "metadata": {
  "kernelspec": {
   "display_name": "Python 3 (ipykernel)",
   "language": "python",
   "name": "python3"
  },
  "language_info": {
   "codemirror_mode": {
    "name": "ipython",
    "version": 3
   },
   "file_extension": ".py",
   "mimetype": "text/x-python",
   "name": "python",
   "nbconvert_exporter": "python",
   "pygments_lexer": "ipython3",
   "version": "3.9.7"
  }
 },
 "nbformat": 4,
 "nbformat_minor": 5
}
