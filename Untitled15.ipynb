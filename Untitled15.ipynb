{
 "cells": [
  {
   "cell_type": "code",
   "execution_count": 69,
   "id": "2e57f67b",
   "metadata": {},
   "outputs": [
    {
     "data": {
      "text/plain": [
       "['  % Total    % Received % Xferd  Average Speed   Time    Time     Time  Current',\n",
       " '                                 Dload  Upload   Total   Spent    Left  Speed',\n",
       " '',\n",
       " '  0     0    0     0    0     0      0      0 --:--:-- --:--:-- --:--:--     0',\n",
       " '  0     0    0     0    0     0      0      0 --:--:-- --:--:-- --:--:--     0',\n",
       " '  5 1383k    0     0    5 81920      0  72087  0:00:19  0:00:01  0:00:18 72112',\n",
       " ' 27 1383k    0     0   27  384k      0   168k  0:00:08  0:00:02  0:00:06  168k',\n",
       " ' 41 1383k    0     0   41  576k      0   179k  0:00:07  0:00:03  0:00:04  179k',\n",
       " ' 56 1383k    0     0   56  784k      0   189k  0:00:07  0:00:04  0:00:03  189k',\n",
       " ' 74 1383k    0     0   74 1024k      0   197k  0:00:07  0:00:05  0:00:02  205k',\n",
       " ' 94 1383k    0     0   94 1312k      0   211k  0:00:06  0:00:06 --:--:--  243k',\n",
       " '100 1383k    0     0  100 1383k      0   186k  0:00:07  0:00:07 --:--:--  194k',\n",
       " '100 1383k    0     0  100 1383k      0   164k  0:00:08  0:00:08 --:--:--  155k',\n",
       " '100 1383k    0     0  100 1383k      0   147k  0:00:09  0:00:09 --:--:--  113k',\n",
       " '100 1383k    0     0  100 1383k      0   132k  0:00:10  0:00:10 --:--:-- 70459',\n",
       " '100 1383k    0     0  100 1383k      0   121k  0:00:11  0:00:11 --:--:-- 14041',\n",
       " '100 1383k    0     0  100 1383k      0   111k  0:00:12  0:00:12 --:--:--     0',\n",
       " '100 1383k    0     0  100 1383k      0   103k  0:00:13  0:00:13 --:--:--     0',\n",
       " '100 1383k  100   421  100 1383k     30    99k  0:00:14  0:00:13  0:00:01    92',\n",
       " '[{\"xmin\":520.7751464844,\"ymin\":402.075378418,\"xmax\":720.3156738281,\"ymax\":755.6615600586,\"confidence\":0.4395232797,\"class\":0,\"name\":\"buliding\"},{\"xmin\":340.2122497559,\"ymin\":46.7638015747,\"xmax\":656.7692871094,\"ymax\":500.1365966797,\"confidence\":0.4134290516,\"class\":0,\"name\":\"buliding\"},{\"xmin\":792.6848754883,\"ymin\":353.065612793,\"xmax\":960.0,\"ymax\":756.4600830078,\"confidence\":0.3443216681,\"class\":0,\"name\":\"buliding\"}]']"
      ]
     },
     "execution_count": 69,
     "metadata": {},
     "output_type": "execute_result"
    }
   ],
   "source": []
  },
  {
   "cell_type": "code",
   "execution_count": 70,
   "id": "b0e6b8bc",
   "metadata": {},
   "outputs": [
    {
     "data": {
      "text/plain": [
       "['  % Total    % Received % Xferd  Average Speed   Time    Time     Time  Current',\n",
       " '                                 Dload  Upload   Total   Spent    Left  Speed',\n",
       " '',\n",
       " '  0     0    0     0    0     0      0      0 --:--:-- --:--:-- --:--:--     0',\n",
       " '  0     0    0     0    0     0      0      0 --:--:-- --:--:-- --:--:--     0',\n",
       " '100  104k    0     0  100  104k      0  54478  0:00:01  0:00:01 --:--:-- 54467',\n",
       " '100  104k    0     0  100  104k      0  35933  0:00:02  0:00:02 --:--:-- 35939',\n",
       " '100  104k    0     0  100  104k      0  26855  0:00:03  0:00:03 --:--:-- 26857',\n",
       " '100  104k    0     0  100  104k      0  21452  0:00:04  0:00:04 --:--:-- 21452',\n",
       " '100  104k    0     0  100  104k      0  17857  0:00:05  0:00:05 --:--:-- 17906',\n",
       " '100  104k    0     0  100  104k      0  15287  0:00:06  0:00:06 --:--:--     0',\n",
       " '100  104k    0     0  100  104k      0  13369  0:00:07  0:00:07 --:--:--     0',\n",
       " '100  104k  100   568  100  104k     70  13190  0:00:08  0:00:08 --:--:--   137',\n",
       " '100  104k  100   568  100  104k     70  13190  0:00:08  0:00:08 --:--:--   181',\n",
       " '[{\"xmin\":217.694152832,\"ymin\":122.8135986328,\"xmax\":341.6018371582,\"ymax\":366.2348632812,\"confidence\":0.9075654149,\"class\":7,\"name\":\"sculpture\"},{\"xmin\":439.1682128906,\"ymin\":230.5386047363,\"xmax\":570.8150634766,\"ymax\":273.9876708984,\"confidence\":0.8275156021,\"class\":4,\"name\":\"mountain\"},{\"xmin\":344.0332641602,\"ymin\":274.4091796875,\"xmax\":597.3096923828,\"ymax\":342.8226013184,\"confidence\":0.7942785621,\"class\":6,\"name\":\"ocean\"},{\"xmin\":1.0095334053,\"ymin\":272.8267822266,\"xmax\":217.018371582,\"ymax\":362.5700378418,\"confidence\":0.7264016867,\"class\":6,\"name\":\"ocean\"}]']"
      ]
     },
     "execution_count": 70,
     "metadata": {},
     "output_type": "execute_result"
    }
   ],
   "source": [
    "b"
   ]
  },
  {
   "cell_type": "code",
   "execution_count": 71,
   "id": "32da3808",
   "metadata": {},
   "outputs": [
    {
     "data": {
      "text/plain": [
       "['  % Total    % Received % Xferd  Average Speed   Time    Time     Time  Current',\n",
       " '                                 Dload  Upload   Total   Spent    Left  Speed',\n",
       " '',\n",
       " '  0     0    0     0    0     0      0      0 --:--:-- --:--:-- --:--:--     0',\n",
       " ' 53  149k    0     0   53 81920      0  85792  0:00:01 --:--:--  0:00:01 85780',\n",
       " '100  149k    0     0  100  149k      0  71151  0:00:02  0:00:02 --:--:-- 71174',\n",
       " '100  149k    0     0  100  149k      0  48521  0:00:03  0:00:03 --:--:-- 48542',\n",
       " '100  149k    0     0  100  149k      0  36780  0:00:04  0:00:04 --:--:-- 36786',\n",
       " '100  149k    0     0  100  149k      0  29613  0:00:05  0:00:05 --:--:-- 29620',\n",
       " '100  149k    0     0  100  149k      0  24788  0:00:06  0:00:06 --:--:-- 13609',\n",
       " '100  149k    0     0  100  149k      0  21308  0:00:07  0:00:07 --:--:--     0',\n",
       " '100  149k    0     0  100  149k      0  18684  0:00:08  0:00:08 --:--:--     0',\n",
       " '100  149k  100   411  100  149k     49  18344  0:00:08  0:00:08 --:--:--    98',\n",
       " '[{\"xmin\":386.853302002,\"ymin\":111.9683990479,\"xmax\":572.3765258789,\"ymax\":326.6846313477,\"confidence\":0.7063212395,\"class\":5,\"name\":\"mural\"},{\"xmin\":0.0,\"ymin\":37.6284713745,\"xmax\":331.5212402344,\"ymax\":442.0255737305,\"confidence\":0.5432622433,\"class\":5,\"name\":\"mural\"},{\"xmin\":385.3144226074,\"ymin\":114.1540985107,\"xmax\":766.7797241211,\"ymax\":444.6773071289,\"confidence\":0.2512469888,\"class\":5,\"name\":\"mural\"}]']"
      ]
     },
     "execution_count": 71,
     "metadata": {},
     "output_type": "execute_result"
    }
   ],
   "source": [
    "c"
   ]
  },
  {
   "cell_type": "code",
   "execution_count": null,
   "id": "a5ce6fb0",
   "metadata": {},
   "outputs": [],
   "source": [
    "!curl --data-binary @bul2.jpg https://mz1gdes0a3.execute-api.us-east-2.amazonaws.com/dev/detect"
   ]
  },
  {
   "cell_type": "code",
   "execution_count": null,
   "id": "924f5c3f",
   "metadata": {},
   "outputs": [],
   "source": []
  },
  {
   "cell_type": "code",
   "execution_count": null,
   "id": "ec5c34cc",
   "metadata": {},
   "outputs": [],
   "source": []
  },
  {
   "cell_type": "code",
   "execution_count": null,
   "id": "c1b45267",
   "metadata": {},
   "outputs": [],
   "source": []
  },
  {
   "cell_type": "code",
   "execution_count": null,
   "id": "3c17fe26",
   "metadata": {},
   "outputs": [],
   "source": []
  },
  {
   "cell_type": "code",
   "execution_count": null,
   "id": "65616663",
   "metadata": {},
   "outputs": [],
   "source": []
  },
  {
   "cell_type": "code",
   "execution_count": null,
   "id": "d1014891",
   "metadata": {},
   "outputs": [],
   "source": []
  },
  {
   "cell_type": "code",
   "execution_count": null,
   "id": "1c70de2f",
   "metadata": {},
   "outputs": [],
   "source": []
  },
  {
   "cell_type": "code",
   "execution_count": null,
   "id": "640a747b",
   "metadata": {},
   "outputs": [],
   "source": []
  },
  {
   "cell_type": "code",
   "execution_count": null,
   "id": "c0e98253",
   "metadata": {},
   "outputs": [],
   "source": []
  },
  {
   "cell_type": "code",
   "execution_count": null,
   "id": "83f1224c",
   "metadata": {},
   "outputs": [],
   "source": []
  },
  {
   "cell_type": "code",
   "execution_count": null,
   "id": "4610c79c",
   "metadata": {},
   "outputs": [],
   "source": []
  },
  {
   "cell_type": "code",
   "execution_count": null,
   "id": "3a20484d",
   "metadata": {},
   "outputs": [],
   "source": []
  },
  {
   "cell_type": "code",
   "execution_count": null,
   "id": "3d7e36f4",
   "metadata": {},
   "outputs": [],
   "source": []
  },
  {
   "cell_type": "code",
   "execution_count": null,
   "id": "12cde1e5",
   "metadata": {},
   "outputs": [],
   "source": []
  },
  {
   "cell_type": "code",
   "execution_count": null,
   "id": "782378cf",
   "metadata": {},
   "outputs": [],
   "source": []
  },
  {
   "cell_type": "code",
   "execution_count": null,
   "id": "b605d6c6",
   "metadata": {},
   "outputs": [],
   "source": [
    "a = !curl --data-binary @bul2.jpg https://mz1gdes0a3.execute-api.us-east-2.amazonaws.com/dev/detect"
   ]
  },
  {
   "cell_type": "code",
   "execution_count": null,
   "id": "85c6e7ac",
   "metadata": {},
   "outputs": [],
   "source": [
    "b = !curl --data-binary @2.jpg https://mz1gdes0a3.execute-api.us-east-2.amazonaws.com/dev/detect"
   ]
  },
  {
   "cell_type": "code",
   "execution_count": null,
   "id": "f6e8dddf",
   "metadata": {},
   "outputs": [],
   "source": [
    "c = !curl --data-binary @99.jpg https://mz1gdes0a3.execute-api.us-east-2.amazonaws.com/dev/detect"
   ]
  }
 ],
 "metadata": {
  "kernelspec": {
   "display_name": "Python 3 (ipykernel)",
   "language": "python",
   "name": "python3"
  },
  "language_info": {
   "codemirror_mode": {
    "name": "ipython",
    "version": 3
   },
   "file_extension": ".py",
   "mimetype": "text/x-python",
   "name": "python",
   "nbconvert_exporter": "python",
   "pygments_lexer": "ipython3",
   "version": "3.9.7"
  }
 },
 "nbformat": 4,
 "nbformat_minor": 5
}
