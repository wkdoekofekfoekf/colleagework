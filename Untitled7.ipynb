{
 "cells": [
  {
   "cell_type": "code",
   "execution_count": 1,
   "id": "28569e82",
   "metadata": {},
   "outputs": [],
   "source": [
    "from selenium import webdriver"
   ]
  },
  {
   "cell_type": "code",
   "execution_count": 10,
   "id": "bbeb1cdd",
   "metadata": {},
   "outputs": [],
   "source": [
    "from selenium.webdriver.common.keys import Keys"
   ]
  },
  {
   "cell_type": "code",
   "execution_count": 5,
   "id": "ce76ff0b",
   "metadata": {},
   "outputs": [
    {
     "name": "stdout",
     "output_type": "stream",
     "text": [
      "C:\\Users\\kimyeongmin\\herr_pants\n"
     ]
    }
   ],
   "source": [
    "cd C:\\Users\\kimyeongmin\\herr_pants"
   ]
  },
  {
   "cell_type": "code",
   "execution_count": null,
   "id": "998c57f2",
   "metadata": {},
   "outputs": [
    {
     "name": "stderr",
     "output_type": "stream",
     "text": [
      "C:\\Users\\KIMYEO~1\\AppData\\Local\\Temp/ipykernel_13784/1128629196.py:14: DeprecationWarning: find_element_by_name is deprecated. Please use find_element(by=By.NAME, value=name) instead\n",
      "  elem = driver.find_element_by_name(\"q\")\n",
      "C:\\Users\\KIMYEO~1\\AppData\\Local\\Temp/ipykernel_13784/1128629196.py:30: DeprecationWarning: find_element_by_css_selector is deprecated. Please use find_element(by=By.CSS_SELECTOR, value=css_selector) instead\n",
      "  driver.find_element_by_css_selector(\".mye4qd\").click()\n",
      "C:\\Users\\KIMYEO~1\\AppData\\Local\\Temp/ipykernel_13784/1128629196.py:34: DeprecationWarning: find_elements_by_css_selector is deprecated. Please use find_elements(by=By.CSS_SELECTOR, value=css_selector) instead\n",
      "  images = driver.find_elements_by_css_selector(\".rg_i.Q4LuWd\")\n",
      "C:\\Users\\KIMYEO~1\\AppData\\Local\\Temp/ipykernel_13784/1128629196.py:40: DeprecationWarning: find_element_by_css_selector is deprecated. Please use find_element(by=By.CSS_SELECTOR, value=css_selector) instead\n",
      "  imgUrl = driver.find_element_by_css_selector(\".n3VNCb\").get_attribute(\"src\")\n"
     ]
    }
   ],
   "source": [
    "from selenium import webdriver\n",
    "from urllib.request import urlopen\n",
    "from bs4 import BeautifulSoup as bs\n",
    "from urllib.parse import quote_plus\n",
    "from selenium.webdriver.common.keys import Keys\n",
    "import time\n",
    "import urllib.request\n",
    "\n",
    "\n",
    "options = webdriver.ChromeOptions()\n",
    "options.add_experimental_option(\"excludeSwitches\", [\"enable-logging\"])\n",
    "driver = webdriver.Chrome(options=options) # 여기에 크롬드라이브 다운로드 받은 경로를 입력한다\n",
    "driver.get(\"https://www.google.co.kr/imghp?hl=ko&ogbl\")\n",
    "elem = driver.find_element_by_name(\"q\")\n",
    "elem.send_keys(\"헤링본 바지\")\n",
    "elem.send_keys(Keys.RETURN)\n",
    " \n",
    "\n",
    "SCROLL_PAUSE_TIME = 1\n",
    "last_height = driver.execute_script(\"return document.body.scrollHeight\")\n",
    " \n",
    "while True:\n",
    "    driver.execute_script(\"window.scrollTo(0, document.body.scrollHeight);\")\n",
    " \n",
    "    time.sleep(SCROLL_PAUSE_TIME)\n",
    " \n",
    "    new_height = driver.execute_script(\"return document.body.scrollHeight\")\n",
    "    if new_height == last_height:\n",
    "        try:\n",
    "            driver.find_element_by_css_selector(\".mye4qd\").click()\n",
    "        except:\n",
    "            break\n",
    "    last_height = new_height\n",
    "images = driver.find_elements_by_css_selector(\".rg_i.Q4LuWd\")\n",
    "count = 1\n",
    "for image in images:\n",
    "    try: \n",
    "        image.click()\n",
    "        time.sleep(2)\n",
    "        imgUrl = driver.find_element_by_css_selector(\".n3VNCb\").get_attribute(\"src\")\n",
    "        urllib.request.urlretrieve(imgUrl, str(count) + \".jpg\")\n",
    "        count = count + 1\n",
    "    except:\n",
    "        pass \n",
    "driver.close()\n",
    "\n",
    "\n",
    "\n",
    "\n"
   ]
  },
  {
   "cell_type": "code",
   "execution_count": null,
   "id": "fbffc3f6",
   "metadata": {},
   "outputs": [
    {
     "name": "stderr",
     "output_type": "stream",
     "text": [
      "C:\\Users\\KIMYEO~1\\AppData\\Local\\Temp/ipykernel_2432/3610894105.py:14: DeprecationWarning: find_element_by_name is deprecated. Please use find_element(by=By.NAME, value=name) instead\n",
      "  elem = driver.find_element_by_name(\"q\")\n",
      "C:\\Users\\KIMYEO~1\\AppData\\Local\\Temp/ipykernel_2432/3610894105.py:30: DeprecationWarning: find_element_by_css_selector is deprecated. Please use find_element(by=By.CSS_SELECTOR, value=css_selector) instead\n",
      "  driver.find_element_by_css_selector(\".mye4qd\").click()\n",
      "C:\\Users\\KIMYEO~1\\AppData\\Local\\Temp/ipykernel_2432/3610894105.py:34: DeprecationWarning: find_elements_by_css_selector is deprecated. Please use find_elements(by=By.CSS_SELECTOR, value=css_selector) instead\n",
      "  images = driver.find_elements_by_css_selector(\".rg_i.Q4LuWd\")\n",
      "C:\\Users\\KIMYEO~1\\AppData\\Local\\Temp/ipykernel_2432/3610894105.py:40: DeprecationWarning: find_element_by_xpath is deprecated. Please use find_element(by=By.XPATH, value=xpath) instead\n",
      "  imgUrl = driver.find_element_by_xpath('/html/body/div[2]/c-wiz/div[3]/div[2]/div[3]/div/div/div[3]/div[2]/c-wiz/div/div[1]/div[1]/div/div[2]/a/img').get_attribute(\"src\")\n"
     ]
    }
   ],
   "source": [
    "from selenium import webdriver\n",
    "from urllib.request import urlopen\n",
    "from bs4 import BeautifulSoup as bs\n",
    "from urllib.parse import quote_plus\n",
    "from selenium.webdriver.common.keys import Keys\n",
    "import time\n",
    "import urllib.request\n",
    "\n",
    "\n",
    "options = webdriver.ChromeOptions()\n",
    "options.add_experimental_option(\"excludeSwitches\", [\"enable-logging\"])\n",
    "driver = webdriver.Chrome(options=options) # 여기에 크롬드라이브 다운로드 받은 경로를 입력한다\n",
    "driver.get(\"https://www.google.co.kr/imghp?hl=ko&ogbl\")\n",
    "elem = driver.find_element_by_name(\"q\")\n",
    "elem.send_keys(\"헤링본 니트\")\n",
    "elem.send_keys(Keys.RETURN)\n",
    " \n",
    "\n",
    "SCROLL_PAUSE_TIME = 1\n",
    "last_height = driver.execute_script(\"return document.body.scrollHeight\")\n",
    " \n",
    "while True:\n",
    "    driver.execute_script(\"window.scrollTo(0, document.body.scrollHeight);\")\n",
    " \n",
    "    time.sleep(SCROLL_PAUSE_TIME)\n",
    " \n",
    "    new_height = driver.execute_script(\"return document.body.scrollHeight\")\n",
    "    if new_height == last_height:\n",
    "        try:\n",
    "            driver.find_element_by_css_selector(\".mye4qd\").click()\n",
    "        except:\n",
    "            break\n",
    "    last_height = new_height\n",
    "images = driver.find_elements_by_css_selector(\".rg_i.Q4LuWd\")\n",
    "count = 1\n",
    "for image in images:\n",
    "    try: \n",
    "        image.click()\n",
    "        time.sleep(4)\n",
    "        imgUrl = driver.find_element_by_xpath('/html/body/div[2]/c-wiz/div[3]/div[2]/div[3]/div/div/div[3]/div[2]/c-wiz/div/div[1]/div[1]/div/div[2]/a/img').get_attribute(\"src\")\n",
    "        urllib.request.urlretrieve(imgUrl, str(count) + \".jpg\")\n",
    "        count = count + 1\n",
    "    except:\n",
    "        pass \n",
    "driver.close()\n",
    "\n",
    "\n",
    "\n",
    "\n"
   ]
  },
  {
   "cell_type": "code",
   "execution_count": 11,
   "id": "cc7c3087",
   "metadata": {},
   "outputs": [
    {
     "data": {
      "text/plain": [
       "'C:\\\\Users\\\\kimyeongmin'"
      ]
     },
     "execution_count": 11,
     "metadata": {},
     "output_type": "execute_result"
    }
   ],
   "source": [
    "pwd"
   ]
  },
  {
   "cell_type": "code",
   "execution_count": null,
   "id": "2a781bc7",
   "metadata": {
    "scrolled": true
   },
   "outputs": [
    {
     "name": "stderr",
     "output_type": "stream",
     "text": [
      "C:\\Users\\KIMYEO~1\\AppData\\Local\\Temp/ipykernel_12736/4077024101.py:14: DeprecationWarning: find_element_by_name is deprecated. Please use find_element(by=By.NAME, value=name) instead\n",
      "  elem = driver.find_element_by_name(\"q\")\n",
      "C:\\Users\\KIMYEO~1\\AppData\\Local\\Temp/ipykernel_12736/4077024101.py:30: DeprecationWarning: find_element_by_css_selector is deprecated. Please use find_element(by=By.CSS_SELECTOR, value=css_selector) instead\n",
      "  driver.find_element_by_css_selector(\".mye4qd\").click()\n",
      "C:\\Users\\KIMYEO~1\\AppData\\Local\\Temp/ipykernel_12736/4077024101.py:35: DeprecationWarning: find_elements_by_css_selector is deprecated. Please use find_elements(by=By.CSS_SELECTOR, value=css_selector) instead\n",
      "  images = driver.find_elements_by_css_selector(\".rg_i.Q4LuWd\")\n",
      "C:\\Users\\KIMYEO~1\\AppData\\Local\\Temp/ipykernel_12736/4077024101.py:41: DeprecationWarning: find_element_by_xpath is deprecated. Please use find_element(by=By.XPATH, value=xpath) instead\n",
      "  imgUrl = driver.find_element_by_xpath('/html/body/div[2]/c-wiz/div[3]/div[2]/div[3]/div/div/div[3]/div[2]/c-wiz/div/div[1]/div[1]/div/div[2]/a/img').get_attribute(\"src\")\n"
     ]
    }
   ],
   "source": [
    "from selenium import webdriver\n",
    "from urllib.request import urlopen\n",
    "from bs4 import BeautifulSoup as bs\n",
    "from urllib.parse import quote_plus\n",
    "from selenium.webdriver.common.keys import Keys\n",
    "import time\n",
    "import urllib.request\n",
    "\n",
    "\n",
    "options = webdriver.ChromeOptions()\n",
    "options.add_experimental_option(\"excludeSwitches\", [\"enable-logging\"])\n",
    "driver = webdriver.Chrome(options=options) # 여기에 크롬드라이브 다운로드 받은 경로를 입력한다.\n",
    "driver.get(\"https://www.google.co.kr/imghp?hl=ko&ogbl\")\n",
    "elem = driver.find_element_by_name(\"q\")\n",
    "elem.send_keys(\"헤링본 니트\")\n",
    "elem.send_keys(Keys.RETURN)\n",
    " \n",
    "SCROLL_PAUSE_TIME = 1\n",
    " \n",
    "last_height = driver.execute_script(\"return document.body.scrollHeight\")\n",
    " \n",
    "while True:\n",
    "    driver.execute_script(\"window.scrollTo(0, document.body.scrollHeight);\")\n",
    " \n",
    "    time.sleep(SCROLL_PAUSE_TIME)\n",
    " \n",
    "    new_height = driver.execute_script(\"return document.body.scrollHeight\")\n",
    "    if new_height == last_height:\n",
    "        try:\n",
    "            driver.find_element_by_css_selector(\".mye4qd\").click()\n",
    "        except:\n",
    "            break\n",
    "    last_height = new_height\n",
    " \n",
    "images = driver.find_elements_by_css_selector(\".rg_i.Q4LuWd\")\n",
    "count = 1\n",
    "for image in images:\n",
    "    try: \n",
    "        image.click()\n",
    "        time.sleep(1)\n",
    "        imgUrl = driver.find_element_by_xpath('/html/body/div[2]/c-wiz/div[3]/div[2]/div[3]/div/div/div[3]/div[2]/c-wiz/div/div[1]/div[1]/div/div[2]/a/img').get_attribute(\"src\")\n",
    "        urllib.request.urlretrieve(imgUrl, str(count) + \".jpg\")\n",
    "        count = count + 1\n",
    "    except:\n",
    "        pass\n",
    " \n",
    "driver.close()"
   ]
  },
  {
   "cell_type": "code",
   "execution_count": 5,
   "id": "f8ebeae6",
   "metadata": {},
   "outputs": [
    {
     "name": "stdout",
     "output_type": "stream",
     "text": [
      " C 드라이브의 볼륨: DGMONG\n",
      " 볼륨 일련 번호: E6FC-82D8\n",
      "\n",
      " C:\\Users\\kimyeongmin 디렉터리\n",
      "\n",
      "2022-04-11  오전 11:51    <DIR>          .\n",
      "2022-04-11  오전 11:51    <DIR>          ..\n",
      "2022-03-24  오후 04:49    <DIR>          .conda\n",
      "2022-03-16  오후 03:39                25 .condarc\n",
      "2022-03-16  오후 03:38    <DIR>          .continuum\n",
      "2022-03-16  오후 03:21    <DIR>          .idlerc\n",
      "2022-04-11  오전 10:11    <DIR>          .ipynb_checkpoints\n",
      "2022-03-16  오후 03:38    <DIR>          .ipython\n",
      "2022-03-22  오후 04:49    <DIR>          .jupyter\n",
      "2022-04-06  오후 04:19    <DIR>          .keras\n",
      "2022-03-24  오후 01:57    <DIR>          .matplotlib\n",
      "2022-03-16  오후 03:19         1,477,826 .pipwin\n",
      "2022-04-07  오후 09:43            75,820 1.jpg\n",
      "2022-03-17  오전 11:53    <DIR>          1231\n",
      "2022-03-08  오전 10:16    <DIR>          3D Objects\n",
      "2022-03-17  오전 11:53    <DIR>          abc\n",
      "2022-03-18  오후 05:21    <DIR>          abcd\n",
      "2022-04-07  오후 09:46            13,601 all_classification.ipynb\n",
      "2022-03-26  오전 03:57        11,802,624 chromedriver.exe\n",
      "2022-04-11  오전 11:16    <DIR>          cloth\n",
      "2022-04-06  오후 04:20        13,314,789 cnn&resnet(class=4).ipynb\n",
      "2022-03-08  오전 10:16    <DIR>          Contacts\n",
      "2022-04-11  오전 11:05    <DIR>          Desktop\n",
      "2022-04-08  오전 10:33    <DIR>          Documents\n",
      "2022-04-11  오전 10:46    <DIR>          Downloads\n",
      "2022-04-05  오후 04:44            16,123 Eot finalv2.ipynb\n",
      "2022-03-08  오전 10:16    <DIR>          Favorites\n",
      "2022-04-11  오전 11:08    <DIR>          idols\n",
      "2022-03-08  오전 10:16    <DIR>          Links\n",
      "2022-04-07  오후 09:42       107,503,336 model_class_design1.h5\n",
      "2022-03-08  오전 10:16    <DIR>          Music\n",
      "2022-03-21  오전 10:09             7,300 nlt.ipynb\n",
      "2022-04-06  오전 10:39    <DIR>          OneDrive\n",
      "2022-04-07  오후 09:34    <DIR>          Pictures\n",
      "2022-03-08  오전 10:36    <DIR>          Postman\n",
      "2022-03-08  오전 10:16    <DIR>          Saved Games\n",
      "2022-03-08  오전 10:17    <DIR>          Searches\n",
      "2022-03-18  오후 02:36               756 Untitled.ipynb\n",
      "2022-03-18  오후 06:19               588 Untitled1.ipynb\n",
      "2022-04-06  오후 04:14            83,502 Untitled2.ipynb\n",
      "2022-03-24  오후 02:23               588 Untitled3.ipynb\n",
      "2022-03-25  오후 01:51            23,962 Untitled4.ipynb\n",
      "2022-03-28  오후 06:40            88,327 Untitled5.ipynb\n",
      "2022-03-29  오후 07:51               787 Untitled6.ipynb\n",
      "2022-04-11  오전 11:51            22,350 Untitled7.ipynb\n",
      "2022-03-08  오후 03:11    <DIR>          Videos\n",
      "2022-04-06  오후 03:24            39,207 ㅁㅇㅁㅇ.ipynb\n",
      "2022-04-11  오전 11:27    <DIR>          주걱_img_download\n",
      "2022-04-11  오전 11:29    <DIR>          헤링본 코트_img_download\n",
      "              18개 파일         134,471,511 바이트\n",
      "              31개 디렉터리  45,277,392,896 바이트 남음\n"
     ]
    }
   ],
   "source": [
    "from selenium import webdriver\n",
    "import time\n",
    " \n",
    "options = webdriver.ChromeOptions()\n",
    "options.add_experimental_option(\"excludeSwitches\", [\"enable-logging\"])\n",
    "driver = webdriver.Chrome(options=options)\n",
    "driver.get(\"https://search.daum.net/search?w=img&nil_search=btn&DA=NTB&enc=utf8&q=%ED%83%80%EC%B9%B4%ED%95%98%EC%8B%9C%20%EC%A5%AC%EB%A6%AC\" )\n",
    "time.sleep(1)\n",
    " \n",
    "images = driver.find_elements_by_css_selector(\"#imgList > div > a > img\")\n",
    "img_url = []\n",
    " \n",
    "for image in images :\n",
    "    url = image.get_attribute('src')\n",
    "    img_url.append(url)\n",
    " \n",
    "# print(img_url)\n",
    " \n",
    " \n",
    "import os \n",
    " \n",
    "img_folder = './img'\n",
    " \n",
    "if not os.path.isdir(img_folder) : # 없으면 새로 생성하는 조건문 \n",
    "    os.mkdir(img_folder)\n",
    "    \n",
    "for index, link in enumerate(img_url) :\n",
    "#     start = link.rfind('.')\n",
    "#     end = link.rfind('&')\n",
    "#     filetype = link[start:end]\n",
    "\turlretrieve(link, f'./img/{index}.jpg')"
   ]
  },
  {
   "cell_type": "code",
   "execution_count": 1,
   "id": "b5ccdbc8",
   "metadata": {},
   "outputs": [
    {
     "name": "stdout",
     "output_type": "stream",
     "text": [
      "C:\\Users\\kimyeongmin\\헤링본 코트_img_download\n"
     ]
    }
   ],
   "source": [
    "cd C:\\Users\\kimyeongmin\\헤링본 코트_img_download"
   ]
  },
  {
   "cell_type": "code",
   "execution_count": null,
   "id": "ce64881a",
   "metadata": {},
   "outputs": [],
   "source": []
  }
 ],
 "metadata": {
  "kernelspec": {
   "display_name": "Python 3 (ipykernel)",
   "language": "python",
   "name": "python3"
  },
  "language_info": {
   "codemirror_mode": {
    "name": "ipython",
    "version": 3
   },
   "file_extension": ".py",
   "mimetype": "text/x-python",
   "name": "python",
   "nbconvert_exporter": "python",
   "pygments_lexer": "ipython3",
   "version": "3.9.7"
  }
 },
 "nbformat": 4,
 "nbformat_minor": 5
}
