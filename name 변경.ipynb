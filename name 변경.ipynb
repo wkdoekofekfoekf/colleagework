{
 "cells": [
  {
   "cell_type": "code",
   "execution_count": 2,
   "id": "c1ea5529",
   "metadata": {},
   "outputs": [
    {
     "data": {
      "text/plain": [
       "['building', 'flat', 'menu', 'mountain', 'mural', 'ocean', '빌딩', '산']"
      ]
     },
     "execution_count": 2,
     "metadata": {},
     "output_type": "execute_result"
    }
   ],
   "source": [
    "import os\n",
    "\n",
    "# 주어진 디렉토리에 있는 항목들의 이름을 담고 있는 리스트를 반환합니다.\n",
    "# 리스트는 임의의 순서대로 나열됩니다.\n",
    "file_path = 'C:/Users/kimyeongmin/Downloads/AutoCrawler-master/AutoCrawler-master/download'\n",
    "folder_names = os.listdir(file_path)\n",
    "folder_names"
   ]
  },
  {
   "cell_type": "code",
   "execution_count": null,
   "id": "0d9a2cdc",
   "metadata": {},
   "outputs": [],
   "source": []
  },
  {
   "cell_type": "code",
   "execution_count": 4,
   "id": "9678cb7c",
   "metadata": {},
   "outputs": [],
   "source": [
    "import os\n",
    "\n",
    "# 주어진 디렉토리에 있는 항목들의 이름을 담고 있는 리스트를 반환합니다.\n",
    "# 리스트는 임의의 순서대로 나열됩니다.\n",
    "file_path = 'C:/Users/kimyeongmin/Downloads/AutoCrawler-master/AutoCrawler-master/download'\n",
    "folder_names = os.listdir(file_path)\n",
    "folder_names\n",
    "a = \"/산\"\n",
    "renam = 'san'\n",
    "j = 1\n",
    "file_names = os.listdir(file_path+a)\n",
    "for name in file_names:\n",
    "    src = os.path.join(file_path+a, name)\n",
    "    dst = renam+str(j) + '.jpg'\n",
    "    dst = os.path.join(file_path+a, dst)\n",
    "    os.rename(src,dst)\n",
    "    j = j+1\n",
    "    "
   ]
  },
  {
   "cell_type": "code",
   "execution_count": 28,
   "id": "770c365e",
   "metadata": {},
   "outputs": [],
   "source": [
    "j = 1\n",
    "for i in folder_names:\n",
    "    file_names = os.listdir(file_path+'\\\\'+i)\n",
    "    for name in file_names:\n",
    "        src = os.path.join(file_path+'\\\\'+i, name)\n",
    "        dst = str(j) + '.jpg'\n",
    "        dst = os.path.join(file_path+'\\\\'+i, dst)\n",
    "       \n",
    "    "
   ]
  },
  {
   "cell_type": "code",
   "execution_count": 78,
   "id": "7bf38ec7",
   "metadata": {},
   "outputs": [],
   "source": [
    "import shutil\n",
    "import os\n",
    " \n",
    "file_source = 'C:/Users/kimyeongmin/Downloads/download1/하운드 체크 코트/'\n",
    "file_destination = 'C:/Users/kimyeongmin/Desktop/train/하운드체크/'\n",
    " \n",
    "g= os.listdir(file_source)\n",
    " \n",
    "for i in range(150):\n",
    "    shutil.move(file_source + g, file_destination)"
   ]
  },
  {
   "cell_type": "code",
   "execution_count": 67,
   "id": "de3a537a",
   "metadata": {},
   "outputs": [],
   "source": [
    "import os, shutil\n",
    " \n",
    "for root, subdirs, files in os.walk('./30'):\n",
    "    for f in files:\n",
    "        if '가디건' in f:\n",
    "            file_to_move = os.path.join(root, f)\n",
    "            shutil.move(file_to_move, 'top')"
   ]
  },
  {
   "cell_type": "code",
   "execution_count": 34,
   "id": "97b94624",
   "metadata": {},
   "outputs": [
    {
     "name": "stdout",
     "output_type": "stream",
     "text": [
      "C:\\Users\\kimyeongmin\\Downloads\\NAVER WORKS\\22디지몽 전달용_220208\n"
     ]
    }
   ],
   "source": [
    "cd C:\\Users\\kimyeongmin\\Downloads\\NAVER WORKS\\22디지몽 전달용_220208"
   ]
  },
  {
   "cell_type": "code",
   "execution_count": 33,
   "id": "2bd0f68f",
   "metadata": {},
   "outputs": [
    {
     "data": {
      "text/plain": [
       "'C:\\\\Users\\\\kimyeongmin'"
      ]
     },
     "execution_count": 33,
     "metadata": {},
     "output_type": "execute_result"
    }
   ],
   "source": [
    "pwd"
   ]
  },
  {
   "cell_type": "code",
   "execution_count": 68,
   "id": "9df4d541",
   "metadata": {},
   "outputs": [
    {
     "ename": "NameError",
     "evalue": "name 'file_source' is not defined",
     "output_type": "error",
     "traceback": [
      "\u001b[1;31m---------------------------------------------------------------------------\u001b[0m",
      "\u001b[1;31mNameError\u001b[0m                                 Traceback (most recent call last)",
      "\u001b[1;32mC:\\Users\\KIMYEO~1\\AppData\\Local\\Temp/ipykernel_18008/2839286355.py\u001b[0m in \u001b[0;36m<module>\u001b[1;34m\u001b[0m\n\u001b[1;32m----> 1\u001b[1;33m \u001b[0mget_files\u001b[0m \u001b[1;33m=\u001b[0m \u001b[0mos\u001b[0m\u001b[1;33m.\u001b[0m\u001b[0mlistdir\u001b[0m\u001b[1;33m(\u001b[0m\u001b[0mfile_source\u001b[0m\u001b[1;33m)\u001b[0m\u001b[1;33m\u001b[0m\u001b[1;33m\u001b[0m\u001b[0m\n\u001b[0m",
      "\u001b[1;31mNameError\u001b[0m: name 'file_source' is not defined"
     ]
    }
   ],
   "source": [
    "get_files = os.listdir(file_source)"
   ]
  },
  {
   "cell_type": "code",
   "execution_count": null,
   "id": "2e7b56bb",
   "metadata": {},
   "outputs": [],
   "source": []
  }
 ],
 "metadata": {
  "kernelspec": {
   "display_name": "Python 3 (ipykernel)",
   "language": "python",
   "name": "python3"
  },
  "language_info": {
   "codemirror_mode": {
    "name": "ipython",
    "version": 3
   },
   "file_extension": ".py",
   "mimetype": "text/x-python",
   "name": "python",
   "nbconvert_exporter": "python",
   "pygments_lexer": "ipython3",
   "version": "3.9.7"
  }
 },
 "nbformat": 4,
 "nbformat_minor": 5
}
